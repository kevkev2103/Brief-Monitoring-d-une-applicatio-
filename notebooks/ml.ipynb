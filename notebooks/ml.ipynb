{
 "cells": [
  {
   "cell_type": "markdown",
   "metadata": {},
   "source": [
    "## Nettoyage"
   ]
  },
  {
   "cell_type": "code",
   "execution_count": 83,
   "metadata": {},
   "outputs": [
    {
     "name": "stdout",
     "output_type": "stream",
     "text": [
      "<class 'pandas.core.frame.DataFrame'>\n",
      "RangeIndex: 344 entries, 0 to 343\n",
      "Data columns (total 7 columns):\n",
      " #   Column             Non-Null Count  Dtype  \n",
      "---  ------             --------------  -----  \n",
      " 0   species            344 non-null    object \n",
      " 1   island             344 non-null    object \n",
      " 2   bill_length_mm     342 non-null    float64\n",
      " 3   bill_depth_mm      342 non-null    float64\n",
      " 4   flipper_length_mm  342 non-null    float64\n",
      " 5   body_mass_g        342 non-null    float64\n",
      " 6   sex                333 non-null    object \n",
      "dtypes: float64(4), object(3)\n",
      "memory usage: 18.9+ KB\n"
     ]
    },
    {
     "data": {
      "text/plain": [
       "species               0\n",
       "island                0\n",
       "bill_length_mm        2\n",
       "bill_depth_mm         2\n",
       "flipper_length_mm     2\n",
       "body_mass_g           2\n",
       "sex                  11\n",
       "dtype: int64"
      ]
     },
     "execution_count": 83,
     "metadata": {},
     "output_type": "execute_result"
    }
   ],
   "source": [
    "import pandas as pd\n",
    "import seaborn as sns\n",
    "\n",
    "data = sns.load_dataset(\"penguins\")\n",
    "\n",
    "data.head()\n",
    "data.info()\n",
    "data.describe()\n",
    "data.isnull().sum()"
   ]
  },
  {
   "cell_type": "code",
   "execution_count": 84,
   "metadata": {},
   "outputs": [
    {
     "data": {
      "text/plain": [
       "species              0\n",
       "island               0\n",
       "bill_length_mm       0\n",
       "bill_depth_mm        0\n",
       "flipper_length_mm    0\n",
       "body_mass_g          0\n",
       "sex                  0\n",
       "dtype: int64"
      ]
     },
     "execution_count": 84,
     "metadata": {},
     "output_type": "execute_result"
    }
   ],
   "source": [
    "df = data.dropna()\n",
    "df.isnull().sum()"
   ]
  },
  {
   "cell_type": "markdown",
   "metadata": {},
   "source": [
    "## Pipeline"
   ]
  },
  {
   "cell_type": "code",
   "execution_count": 85,
   "metadata": {},
   "outputs": [],
   "source": [
    "from sklearn.compose import ColumnTransformer\n",
    "from sklearn.pipeline import Pipeline\n",
    "from sklearn.preprocessing import OneHotEncoder, StandardScaler\n",
    "\n",
    "#définir les colonnes catégorielles\n",
    "\n",
    "categorical_colums = ['island', 'sex']\n",
    "numerical_colums = ['bill_length_mm', 'bill_depth_mm', 'flipper_length_mm', 'body_mass_g']\n",
    "target_column = 'species'\n",
    "\n",
    "# Créer un pipeline pour les colonnes catégorielles\n",
    "categorical_transformer = Pipeline(steps=[\n",
    "    ('onehot', OneHotEncoder(handle_unknown='ignore'))\n",
    "])\n",
    "\n",
    "numerical_transformer = Pipeline(steps=[\n",
    "    ('scaler', StandardScaler())\n",
    "])\n",
    "\n",
    "preprocessor = ColumnTransformer(\n",
    "    transformers =[\n",
    "        ('num',numerical_transformer, numerical_colums),\n",
    "        ('cat', categorical_transformer,categorical_colums)\n",
    "    ]\n",
    ")\n",
    "\n",
    "X = df.drop(columns=target_column)\n",
    "y = df[[target_column]]\n",
    "\n",
    "target_encoder = OneHotEncoder(sparse_output=False, handle_unknown='ignore')\n",
    "y_encoded = target_encoder.fit_transform(y)\n",
    "\n",
    "pipeline = Pipeline(steps=[\n",
    "    ('preprocessor', preprocessor)\n",
    "])\n"
   ]
  },
  {
   "cell_type": "code",
   "execution_count": 86,
   "metadata": {},
   "outputs": [
    {
     "name": "stdout",
     "output_type": "stream",
     "text": [
      "[array(['Adelie', 'Chinstrap', 'Gentoo'], dtype=object)]\n"
     ]
    }
   ],
   "source": [
    "print(target_encoder.categories_)"
   ]
  },
  {
   "cell_type": "code",
   "execution_count": 87,
   "metadata": {},
   "outputs": [],
   "source": [
    "from sklearn.model_selection import train_test_split\n",
    "\n",
    "# Diviser X et y en deux parties : 2/3 pour ML, 1/3 pour production\n",
    "X_ml, X_prod, y_ml, y_prod = train_test_split(X,y_encoded,test_size=1/3, random_state =42)\n",
    "\n",
    "\n",
    "# Ensuite, diviser X_ml et y_ml en train et test\n",
    "X_train, X_test, y_train, y_test = train_test_split(X_ml, y_ml, test_size=0.3, random_state=42)"
   ]
  },
  {
   "cell_type": "code",
   "execution_count": 88,
   "metadata": {},
   "outputs": [],
   "source": [
    "pipeline.fit(X_train)\n",
    "X_train_transformed = pipeline.transform(X_train)\n",
    "X_test_transformed = pipeline.transform(X_test)\n",
    "X_prod_transformed = pipeline.transform(X_prod)\n"
   ]
  },
  {
   "cell_type": "markdown",
   "metadata": {},
   "source": [
    "## Modélisation"
   ]
  },
  {
   "cell_type": "code",
   "execution_count": 89,
   "metadata": {},
   "outputs": [
    {
     "name": "stdout",
     "output_type": "stream",
     "text": [
      "Accuracy sur le jeu de test : 1.00\n",
      "Rapport de classification :\n",
      "               precision    recall  f1-score   support\n",
      "\n",
      "           0       1.00      1.00      1.00        30\n",
      "           1       1.00      1.00      1.00        14\n",
      "           2       1.00      1.00      1.00        23\n",
      "\n",
      "   micro avg       1.00      1.00      1.00        67\n",
      "   macro avg       1.00      1.00      1.00        67\n",
      "weighted avg       1.00      1.00      1.00        67\n",
      " samples avg       1.00      1.00      1.00        67\n",
      "\n",
      "Pipeline, modèle et encodeur cible sauvegardés avec succès\n"
     ]
    }
   ],
   "source": [
    "from sklearn.ensemble import RandomForestClassifier\n",
    "from sklearn.metrics import accuracy_score, classification_report\n",
    "import joblib\n",
    "\n",
    "\n",
    "model = RandomForestClassifier(random_state=42)\n",
    "model.fit(X_train_transformed, y_train)\n",
    "\n",
    "y_pred = model.predict(X_test_transformed)\n",
    "\n",
    "# Evaluation des performances\n",
    "\n",
    "accuracy = accuracy_score(y_test, y_pred)\n",
    "classification = classification_report(y_test, y_pred)\n",
    "\n",
    "\n",
    "print(f\"Accuracy sur le jeu de test : {accuracy:.2f}\")\n",
    "print(\"Rapport de classification :\\n\", classification)\n",
    "\n",
    "\n",
    "#Sauvegarder le pipeline\n",
    "joblib.dump(pipeline,'../monitoring/app/pipeline.pkl')\n",
    "\n",
    "#Sauvegarder le modèle entraîné\n",
    "joblib.dump(model, '../monitoring/app/model.pkl')\n",
    "\n",
    "# Sauvegarder l'encodeur cible\n",
    "joblib.dump(target_encoder, '../monitoring/app/target_encoder.pkl')\n",
    "\n",
    "print(\"Pipeline, modèle et encodeur cible sauvegardés avec succès\")\n",
    "\n"
   ]
  }
 ],
 "metadata": {
  "kernelspec": {
   "display_name": "venv",
   "language": "python",
   "name": "python3"
  },
  "language_info": {
   "codemirror_mode": {
    "name": "ipython",
    "version": 3
   },
   "file_extension": ".py",
   "mimetype": "text/x-python",
   "name": "python",
   "nbconvert_exporter": "python",
   "pygments_lexer": "ipython3",
   "version": "3.10.12"
  }
 },
 "nbformat": 4,
 "nbformat_minor": 2
}
